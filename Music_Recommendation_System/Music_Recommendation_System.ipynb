{
 "cells": [
  {
   "cell_type": "markdown",
   "id": "0627683b",
   "metadata": {},
   "source": [
    "## Prepair Data"
   ]
  },
  {
   "cell_type": "code",
   "execution_count": 3,
   "id": "b22c6564",
   "metadata": {},
   "outputs": [
    {
     "data": {
      "text/html": [
       "<div>\n",
       "<style scoped>\n",
       "    .dataframe tbody tr th:only-of-type {\n",
       "        vertical-align: middle;\n",
       "    }\n",
       "\n",
       "    .dataframe tbody tr th {\n",
       "        vertical-align: top;\n",
       "    }\n",
       "\n",
       "    .dataframe thead th {\n",
       "        text-align: right;\n",
       "    }\n",
       "</style>\n",
       "<table border=\"1\" class=\"dataframe\">\n",
       "  <thead>\n",
       "    <tr style=\"text-align: right;\">\n",
       "      <th></th>\n",
       "      <th>artist</th>\n",
       "      <th>song</th>\n",
       "      <th>text</th>\n",
       "    </tr>\n",
       "  </thead>\n",
       "  <tbody>\n",
       "    <tr>\n",
       "      <th>0</th>\n",
       "      <td>Nick Cave</td>\n",
       "      <td>Let It Be</td>\n",
       "      <td>When I find myself in times of trouble  \\r\\nMo...</td>\n",
       "    </tr>\n",
       "    <tr>\n",
       "      <th>1</th>\n",
       "      <td>Judy Garland</td>\n",
       "      <td>A Cottage For Sale</td>\n",
       "      <td>Our little dream castle with every dream gone,...</td>\n",
       "    </tr>\n",
       "    <tr>\n",
       "      <th>2</th>\n",
       "      <td>Crowded House</td>\n",
       "      <td>You Are The One To Make Me Cry</td>\n",
       "      <td>Who'll face the tide and take their chances  \\...</td>\n",
       "    </tr>\n",
       "    <tr>\n",
       "      <th>3</th>\n",
       "      <td>Cyndi Lauper</td>\n",
       "      <td>All Through The Night</td>\n",
       "      <td>All through the night  \\r\\nI'll be awake and I...</td>\n",
       "    </tr>\n",
       "    <tr>\n",
       "      <th>4</th>\n",
       "      <td>Kanye West</td>\n",
       "      <td>Bad News</td>\n",
       "      <td>Didn't you know  \\r\\nI was waiting on you  \\r\\...</td>\n",
       "    </tr>\n",
       "    <tr>\n",
       "      <th>...</th>\n",
       "      <td>...</td>\n",
       "      <td>...</td>\n",
       "      <td>...</td>\n",
       "    </tr>\n",
       "    <tr>\n",
       "      <th>4995</th>\n",
       "      <td>Alabama</td>\n",
       "      <td>Getting Over You</td>\n",
       "      <td>Wish I had just one more chance to hold you cl...</td>\n",
       "    </tr>\n",
       "    <tr>\n",
       "      <th>4996</th>\n",
       "      <td>Dan Fogelberg</td>\n",
       "      <td>Let Her Go</td>\n",
       "      <td>A bad situation right from the start  \\r\\nShe ...</td>\n",
       "    </tr>\n",
       "    <tr>\n",
       "      <th>4997</th>\n",
       "      <td>Green Day</td>\n",
       "      <td>Letterbomb</td>\n",
       "      <td>Nobody likes you  \\r\\nEveryone left you  \\r\\nT...</td>\n",
       "    </tr>\n",
       "    <tr>\n",
       "      <th>4998</th>\n",
       "      <td>Black Sabbath</td>\n",
       "      <td>Wicked World</td>\n",
       "      <td>The world today is such a wicked thing  \\r\\nFi...</td>\n",
       "    </tr>\n",
       "    <tr>\n",
       "      <th>4999</th>\n",
       "      <td>Foo Fighters</td>\n",
       "      <td>Life Of Illusion</td>\n",
       "      <td>Sometimes I can't help the feeling that,  \\r\\n...</td>\n",
       "    </tr>\n",
       "  </tbody>\n",
       "</table>\n",
       "<p>5000 rows × 3 columns</p>\n",
       "</div>"
      ],
      "text/plain": [
       "             artist                            song  \\\n",
       "0         Nick Cave                       Let It Be   \n",
       "1      Judy Garland              A Cottage For Sale   \n",
       "2     Crowded House  You Are The One To Make Me Cry   \n",
       "3      Cyndi Lauper           All Through The Night   \n",
       "4        Kanye West                        Bad News   \n",
       "...             ...                             ...   \n",
       "4995        Alabama                Getting Over You   \n",
       "4996  Dan Fogelberg                      Let Her Go   \n",
       "4997      Green Day                      Letterbomb   \n",
       "4998  Black Sabbath                    Wicked World   \n",
       "4999   Foo Fighters                Life Of Illusion   \n",
       "\n",
       "                                                   text  \n",
       "0     When I find myself in times of trouble  \\r\\nMo...  \n",
       "1     Our little dream castle with every dream gone,...  \n",
       "2     Who'll face the tide and take their chances  \\...  \n",
       "3     All through the night  \\r\\nI'll be awake and I...  \n",
       "4     Didn't you know  \\r\\nI was waiting on you  \\r\\...  \n",
       "...                                                 ...  \n",
       "4995  Wish I had just one more chance to hold you cl...  \n",
       "4996  A bad situation right from the start  \\r\\nShe ...  \n",
       "4997  Nobody likes you  \\r\\nEveryone left you  \\r\\nT...  \n",
       "4998  The world today is such a wicked thing  \\r\\nFi...  \n",
       "4999  Sometimes I can't help the feeling that,  \\r\\n...  \n",
       "\n",
       "[5000 rows x 3 columns]"
      ]
     },
     "execution_count": 3,
     "metadata": {},
     "output_type": "execute_result"
    }
   ],
   "source": [
    "# dataset: https://www.kaggle.com/datasets/notshrirang/spotify-million-song-dataset\n",
    "import pandas as pd\n",
    "df = pd.read_csv(\"data.csv\")\n",
    "df = df.sample(5000).drop('link', axis=1).reset_index(drop=True)\n",
    "df"
   ]
  },
  {
   "cell_type": "markdown",
   "id": "3f76f548",
   "metadata": {},
   "source": [
    "## Data Preprocessing"
   ]
  },
  {
   "cell_type": "code",
   "execution_count": 5,
   "id": "df561d93",
   "metadata": {},
   "outputs": [],
   "source": [
    "# Clean and preprocess the text\n",
    "df['text'] = df['text'].str.lower().replace(r'^\\w\\s', ' ').replace(r'\\n', ' ', regex = True)"
   ]
  },
  {
   "cell_type": "code",
   "execution_count": 7,
   "id": "d6c8d380",
   "metadata": {},
   "outputs": [],
   "source": [
    "import nltk\n",
    "from nltk.stem.porter import PorterStemmer\n",
    "stemmer = PorterStemmer()\n",
    "\n",
    "# Tokenize the descriptions into individual words or phrases\n",
    "def tokenization(txt):\n",
    "    tokens = nltk.word_tokenize(txt)\n",
    "    stemming = [stemmer.stem(w) for w in tokens]\n",
    "    return \" \".join(stemming)"
   ]
  },
  {
   "cell_type": "code",
   "execution_count": 34,
   "id": "8c083d70",
   "metadata": {},
   "outputs": [
    {
     "data": {
      "text/plain": [
       "0       when i find myself in time of troubl mother ma...\n",
       "1       our littl dream castl with everi dream gone , ...\n",
       "2       who 'll face the tide and take their chanc wil...\n",
       "3       all through the night i 'll be awak and i 'll ...\n",
       "4       did n't you know i wa wait on you wait on a dr...\n",
       "                              ...                        \n",
       "4995    wish i had just one more chanc to hold you clo...\n",
       "4996    a bad situat right from the start she play me ...\n",
       "4997    nobodi like you everyon left you they 're all ...\n",
       "4998    the world today is such a wick thing fight go ...\n",
       "4999    sometim i ca n't help the feel that , i 'm liv...\n",
       "Name: text, Length: 5000, dtype: object"
      ]
     },
     "execution_count": 34,
     "metadata": {},
     "output_type": "execute_result"
    }
   ],
   "source": [
    "# Apply Tokenization func\n",
    "df['text'] = df['text'].apply(lambda x: tokenization(x))\n",
    "df['text']"
   ]
  },
  {
   "cell_type": "markdown",
   "id": "ec704d27",
   "metadata": {},
   "source": [
    "## Feature Extraction"
   ]
  },
  {
   "cell_type": "code",
   "execution_count": 35,
   "id": "a08a9885",
   "metadata": {},
   "outputs": [
    {
     "data": {
      "text/plain": [
       "array([1.        , 0.00111331, 0.07727983, ..., 0.00774105, 0.01094826,\n",
       "       0.04473043])"
      ]
     },
     "execution_count": 35,
     "metadata": {},
     "output_type": "execute_result"
    }
   ],
   "source": [
    "# Convert the tokenized descriptions into numerical representations that can be used by machine learning models\n",
    "from sklearn.feature_extraction.text import TfidfVectorizer\n",
    "from sklearn.metrics.pairwise import cosine_similarity\n",
    "\n",
    "tfidvector = TfidfVectorizer(analyzer='word',stop_words='english')\n",
    "matrix = tfidvector.fit_transform(df['text'])\n",
    "similarity = cosine_similarity(matrix)\n",
    "\n",
    "similarity[0]"
   ]
  },
  {
   "cell_type": "markdown",
   "id": "d6d48f82",
   "metadata": {},
   "source": [
    "## Recommender Func"
   ]
  },
  {
   "cell_type": "code",
   "execution_count": 37,
   "id": "a8f3e667",
   "metadata": {},
   "outputs": [],
   "source": [
    "# Recommend similar songs func\n",
    "def recommendation(song_name):\n",
    "    idx = df[df['song'] == song_name].index[0]\n",
    "    distances = sorted(list(enumerate(similarity[idx])),reverse=True,key=lambda x:x[1])\n",
    "    \n",
    "    songs = []\n",
    "    for m_id in distances[1:21]:\n",
    "        songs.append(df.iloc[m_id[0]].song)\n",
    "        \n",
    "    return songs"
   ]
  },
  {
   "cell_type": "markdown",
   "id": "01e6b511",
   "metadata": {},
   "source": [
    "## Final Results"
   ]
  },
  {
   "cell_type": "code",
   "execution_count": 36,
   "id": "6c365352",
   "metadata": {},
   "outputs": [
    {
     "data": {
      "text/plain": [
       "['Cottage For Sale',\n",
       " 'Time Waits',\n",
       " 'Window To The World',\n",
       " \"I've Got A Crush On You\",\n",
       " 'Box Of Rain',\n",
       " 'King Of The Road',\n",
       " 'Baby Girl Window',\n",
       " \"I've Got A Crush On You\",\n",
       " 'Window',\n",
       " 'Storytime',\n",
       " 'The Key',\n",
       " 'No Small Miracle',\n",
       " 'Long River',\n",
       " 'Castles In The Sand',\n",
       " 'Four Rusted Horses',\n",
       " 'And Roses And Roses',\n",
       " 'E-Mail My Heart',\n",
       " 'Story Of Your Life Is In Your Face',\n",
       " 'Face Of God',\n",
       " 'In The Still Of The Night']"
      ]
     },
     "execution_count": 36,
     "metadata": {},
     "output_type": "execute_result"
    }
   ],
   "source": [
    "recommendation('A Cottage For Sale')"
   ]
  }
 ],
 "metadata": {
  "kernelspec": {
   "display_name": "Python 3 (ipykernel)",
   "language": "python",
   "name": "python3"
  },
  "language_info": {
   "codemirror_mode": {
    "name": "ipython",
    "version": 3
   },
   "file_extension": ".py",
   "mimetype": "text/x-python",
   "name": "python",
   "nbconvert_exporter": "python",
   "pygments_lexer": "ipython3",
   "version": "3.11.5"
  }
 },
 "nbformat": 4,
 "nbformat_minor": 5
}
